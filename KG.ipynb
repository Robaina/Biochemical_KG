{
 "cells": [
  {
   "cell_type": "markdown",
   "metadata": {},
   "source": [
    "# Adding a biochemical component to the Knowledge Graph\n",
    "![kg](imgs/visualisation.png)\n",
    "\n",
    "## Enables compound-centered queries\n",
    "![cquery](imgs/compound_query.png)\n",
    "\n",
    "### Molecular similarity is precomputed\n",
    "![similarity](imgs/tanimoto_distance.png)\n",
    "\n",
    "## Database: ModelSEED\n",
    "\n",
    "* 43774 reactions\n",
    "* 20582 compounds\n",
    "\n",
    "Reactions and compounds are invariant across species, thus there is a fixed amount of reactions which are shared among taxa."
   ]
  },
  {
   "cell_type": "markdown",
   "metadata": {},
   "source": [
    "## Load ModelSEED data"
   ]
  },
  {
   "cell_type": "code",
   "execution_count": 1,
   "metadata": {},
   "outputs": [],
   "source": [
    "from src.utils import extract_data, compute_fingerprint_distances\n",
    "\n",
    "reactions_path = \"/home/robaina/Documents/NewAtlantis/enzyme_activity/notebooks/data/annotations/modelseed/reactions.json\"\n",
    "compounds_path = \"/home/robaina/Documents/NewAtlantis/enzyme_activity/notebooks/data/annotations/modelseed/compounds.json\"\n",
    "\n",
    "n = 100 # number of reactions and compounds in KG\n",
    "distance_threshold = 0.2\n",
    "\n",
    "reactions, compounds = extract_data(reactions_path, compounds_path, n)\n",
    "chemical_distances = compute_fingerprint_distances(compounds)"
   ]
  },
  {
   "cell_type": "markdown",
   "metadata": {},
   "source": [
    "## Load NEO4J credentials"
   ]
  },
  {
   "cell_type": "code",
   "execution_count": 2,
   "metadata": {},
   "outputs": [],
   "source": [
    "from dotenv import load_dotenv\n",
    "import os\n",
    "\n",
    "load_dotenv()\n",
    "uri = os.getenv(\"NEO4J_URI\")\n",
    "username = os.getenv(\"NEO4J_USERNAME\")\n",
    "password = os.getenv(\"NEO4J_PASSWORD\")"
   ]
  },
  {
   "cell_type": "markdown",
   "metadata": {},
   "source": [
    "## Build and load the KG to AuraDB"
   ]
  },
  {
   "cell_type": "code",
   "execution_count": 3,
   "metadata": {},
   "outputs": [],
   "source": [
    "from neo4j import GraphDatabase\n",
    "from src.utils import (\n",
    "    parse_reaction_equation\n",
    "    )\n",
    "from src.neo4j import (\n",
    "    create_compound,\n",
    "    create_reaction,\n",
    "    create_participates_in_relationship,\n",
    "    create_substrate_of_relationship,\n",
    "    create_product_of_relationship,\n",
    "    create_chemically_similar_relationship\n",
    ")\n",
    "\n",
    "reactions_path = \"/home/robaina/Documents/NewAtlantis/enzyme_activity/notebooks/data/annotations/modelseed/reactions.json\"\n",
    "compounds_path = \"/home/robaina/Documents/NewAtlantis/enzyme_activity/notebooks/data/annotations/modelseed/compounds.json\"\n",
    "\n",
    "\n",
    "driver = GraphDatabase.driver(uri, auth=(username, password))\n",
    "# Creating Nodes and Relationships in Neo4j\n",
    "with driver.session() as session:\n",
    "    # Create Compound Nodes\n",
    "    for compound in compounds:\n",
    "        session.execute_write(create_compound, compound)\n",
    "\n",
    "    # Create CHEMICALLY_SIMILAR Relationships in Neo4j\n",
    "    for compound1_id, compound2_id, distance in chemical_distances:\n",
    "        if distance <= distance_threshold:\n",
    "            session.execute_write(\n",
    "                create_chemically_similar_relationship,\n",
    "                compound1_id, compound2_id, distance\n",
    "                )\n",
    "\n",
    "    # Create Reaction Nodes and Relationships\n",
    "    for reaction in reactions:\n",
    "        session.execute_write(create_reaction, reaction)\n",
    "        substrates, products = parse_reaction_equation(reaction)\n",
    "\n",
    "        # Create PARTICIPATES_IN Relationships\n",
    "        for compound_id in reaction[\"compound_ids\"].split(\";\"):\n",
    "            session.execute_write(create_participates_in_relationship, compound_id, reaction[\"id\"])\n",
    "\n",
    "        # Create SUBSTRATE_OF and PRODUCT_OF Relationships\n",
    "        for substrate_id, stoichiometry in substrates:\n",
    "            session.execute_write(create_substrate_of_relationship, substrate_id, reaction[\"id\"], stoichiometry)\n",
    "        for product_id, stoichiometry in products:\n",
    "            session.execute_write(create_product_of_relationship, product_id, reaction[\"id\"], stoichiometry)\n",
    "\n",
    "driver.close()"
   ]
  },
  {
   "cell_type": "markdown",
   "metadata": {},
   "source": [
    "## Find chemically similar compounds\n",
    "\n",
    "```python\n",
    "query = (\n",
    "    \"MATCH (c:Compound {id: $compound_id})-[:CHEMICALLY_SIMILAR {distance: $threshold}]->(similar:Compound) \"\n",
    "    \"RETURN similar.id, similar.name, similar.smiles\"\n",
    ")\n",
    "```"
   ]
  },
  {
   "cell_type": "code",
   "execution_count": 4,
   "metadata": {},
   "outputs": [
    {
     "name": "stdout",
     "output_type": "stream",
     "text": [
      "Target compound: Retinal\n",
      "('cpd01420', 'beta-Carotene', 'CC1=C(/C=C/C(C)=C/C=C/C(C)=C/C=C/C=C(C)/C=C/C=C(C)/C=C/C2=C(C)CCCC2(C)C)C(C)(C)CCC1')\n"
     ]
    }
   ],
   "source": [
    "from src.queries import find_chemically_similar_compounds\n",
    "\n",
    "compound_id = \"cpd00304\" #\"cpd00002\"\n",
    "compound_name = [c for c in compounds if c[\"id\"] == compound_id][0][\"name\"]\n",
    "print(f\"Target compound: {compound_name}\")\n",
    "similar_compounds = find_chemically_similar_compounds(uri, username, password, compound_id)\n",
    "for compound in similar_compounds:\n",
    "    print(compound)"
   ]
  },
  {
   "cell_type": "markdown",
   "metadata": {},
   "source": [
    "## Find reactions and enzymes producing chemically similar compounds to target compound\n",
    "\n",
    "```python\n",
    "query = (\n",
    "    \"MATCH (c:Compound {id: $target_compound_id})-[:CHEMICALLY_SIMILAR]->(similar:Compound), \"\n",
    "    \"(similar)-[:PRODUCT_OF]->(r:Reaction) \"\n",
    "    \"RETURN r.id AS reaction_id, r.name AS reaction_name, similar.id AS similar_compound_id, \"\n",
    "    \"similar.name AS similar_compound_name, similar.smiles AS similar_compound_smiles\"\n",
    ")\n",
    "```"
   ]
  },
  {
   "cell_type": "code",
   "execution_count": 5,
   "metadata": {},
   "outputs": [
    {
     "name": "stdout",
     "output_type": "stream",
     "text": [
      "Target compound: L-Tyrosine\n"
     ]
    },
    {
     "data": {
      "text/plain": [
       "('rxn00024',\n",
       " '1,2-Benzenediol:oxygen oxidoreductase',\n",
       " 'cpd00291',\n",
       " 'L-Dopa',\n",
       " '[NH3+][C@@H](Cc1ccc(O)c(O)c1)C(=O)[O-]')"
      ]
     },
     "execution_count": 5,
     "metadata": {},
     "output_type": "execute_result"
    }
   ],
   "source": [
    "from src.queries import find_reactions_with_similar_product_compounds\n",
    "\n",
    "compound_id = \"cpd00069\"\n",
    "compound_name = [c for c in compounds if c[\"id\"] == compound_id][0][\"name\"]\n",
    "print(f\"Target compound: {compound_name}\")\n",
    "\n",
    "reactions = find_reactions_with_similar_product_compounds(uri, username, password, compound_id)\n",
    "reactions[0]"
   ]
  },
  {
   "cell_type": "markdown",
   "metadata": {},
   "source": [
    "## Find thermodynamically feasible reactions converting target compound\n",
    "\n",
    "```python\n",
    "query = (\n",
    "    \"MATCH (c:Compound {id: $compound_id})-[:PARTICIPATES_IN]->(r:Reaction) \"\n",
    "    \"WHERE r.deltag < 0 \"\n",
    "    \"RETURN r.id, r.name, r.deltag\"\n",
    ")\n",
    "```"
   ]
  },
  {
   "cell_type": "code",
   "execution_count": 6,
   "metadata": {},
   "outputs": [
    {
     "name": "stdout",
     "output_type": "stream",
     "text": [
      "Querying for compound cpd00002, ATP\n",
      "Reaction ID: rxn00061, Name: ATP diphosphohydrolase (phosphate-forming), DeltaG: -11.9\n",
      "Reaction ID: rxn00062, Name: ATP phosphohydrolase, DeltaG: -6.16\n",
      "Reaction ID: rxn00063, Name: ATP diphosphohydrolase (diphosphate-forming), DeltaG: -8.43\n",
      "Reaction ID: rxn00064, Name: ATP aminohydrolase, DeltaG: -13.75\n",
      "Reaction ID: rxn00077, Name: ATP:NAD+ 2'-phosphotransferase, DeltaG: -3.14\n",
      "Reaction ID: rxn00078, Name: ATP:NADH 2'-phosphotransferase, DeltaG: -3.14\n",
      "Reaction ID: rxn00097, Name: ATP:AMP phosphotransferase, DeltaG: -0.42\n",
      "Reaction ID: rxn00098, Name: Adenosine-tetraphosphate phosphohydrolase, DeltaG: -7.49\n",
      "Reaction ID: rxn00099, Name: (6S)-6-Hydroxy-1,4,5,6-tetrahydronicotinamide-adenine-dinucleotide hydro-lyase (ATP-hydrolysing), DeltaG: -11.69\n"
     ]
    }
   ],
   "source": [
    "from src.queries import find_negative_deltag_reactions_of_compound\n",
    "\n",
    "compound_id = \"cpd00002\"\n",
    "print(f'Querying for compound {compound_id}, {[compound[\"name\"] for compound in compounds if compound[\"id\"] == compound_id][0]}')\n",
    "# Find reactions for the specified compound with negative deltag\n",
    "reactions = find_negative_deltag_reactions_of_compound(uri, username, password, compound_id)\n",
    "for reaction_id, reaction_name, deltag in reactions:\n",
    "    print(f\"Reaction ID: {reaction_id}, Name: {reaction_name}, DeltaG: {deltag}\")"
   ]
  }
 ],
 "metadata": {
  "kernelspec": {
   "display_name": "neo4j",
   "language": "python",
   "name": "python3"
  },
  "language_info": {
   "codemirror_mode": {
    "name": "ipython",
    "version": 3
   },
   "file_extension": ".py",
   "mimetype": "text/x-python",
   "name": "python",
   "nbconvert_exporter": "python",
   "pygments_lexer": "ipython3",
   "version": "3.12.1"
  }
 },
 "nbformat": 4,
 "nbformat_minor": 2
}
